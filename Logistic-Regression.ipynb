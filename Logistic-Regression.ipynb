{
 "cells": [
  {
   "cell_type": "markdown",
   "source": [
    "# Load Data"
   ],
   "metadata": {
    "_cell_guid": "79c7e3d0-c299-4dcb-8224-4455121ee9b0",
    "_uuid": "d629ff2d2480ee46fbb7e2d37f6b5fab8052498a",
    "collapsed": true
   }
  },
  {
   "cell_type": "code",
   "execution_count": null,
   "source": [
    "import numpy as np, pandas as pd, os\r\n",
    "from sklearn.linear_model import LogisticRegression\r\n",
    "from sklearn.model_selection import StratifiedKFold\r\n",
    "from sklearn.metrics import roc_auc_score\r\n",
    "\r\n",
    "train = pd.read_csv('../input/train.csv')\r\n",
    "test = pd.read_csv('../input/test.csv')\r\n",
    "\r\n",
    "train.head()"
   ],
   "outputs": [],
   "metadata": {}
  },
  {
   "cell_type": "markdown",
   "source": [
    "# Logistic Regression without interactions"
   ],
   "metadata": {}
  },
  {
   "cell_type": "code",
   "execution_count": null,
   "source": [
    "cols = [c for c in train.columns if c not in ['id', 'target']]\r\n",
    "oof = np.zeros(len(train))\r\n",
    "skf = StratifiedKFold(n_splits=5, random_state=42)\r\n",
    "   \r\n",
    "for train_index, test_index in skf.split(train.iloc[:,1:-1], train['target']):\r\n",
    "    clf = LogisticRegression(solver='liblinear',penalty='l2',C=1.0)\r\n",
    "    clf.fit(train.loc[train_index][cols],train.loc[train_index]['target'])\r\n",
    "    oof[test_index] = clf.predict_proba(train.loc[test_index][cols])[:,1]\r\n",
    "    \r\n",
    "auc = roc_auc_score(train['target'],oof)\r\n",
    "print('LR without interactions scores CV =',round(auc,5))"
   ],
   "outputs": [],
   "metadata": {}
  },
  {
   "cell_type": "code",
   "execution_count": null,
   "source": [
    "# INITIALIZE VARIABLES\r\n",
    "cols.remove('test-data')\r\n",
    "interactions = np.zeros((512,255))\r\n",
    "oof = np.zeros(len(train))\r\n",
    "preds = np.zeros(len(test))\r\n",
    "\r\n",
    "# BUILD 512 SEPARATE MODELS\r\n",
    "for i in range(512):\r\n",
    "    # ONLY TRAIN WITH DATA WHERE TEST-DATA EQUALS I\r\n",
    "    train2 = train[train['test-data']==i]\r\n",
    "    test2 = test[test['test-data']==i]\r\n",
    "    idx1 = train2.index; idx2 = test2.index\r\n",
    "    train2.reset_index(drop=True,inplace=True)\r\n",
    "    test2.reset_index(drop=True,inplace=True)\r\n",
    "    \r\n",
    "    skf = StratifiedKFold(n_splits=25, random_state=42)\r\n",
    "    for train_index, test_index in skf.split(train2.iloc[:,1:-1], train2['target']):\r\n",
    "        # LOGISTIC REGRESSION MODEL\r\n",
    "        clf = LogisticRegression(solver='liblinear',penalty='l1',C=0.05)\r\n",
    "        clf.fit(train2.loc[train_index][cols],train2.loc[train_index]['target'])\r\n",
    "        oof[idx1[test_index]] = clf.predict_proba(train2.loc[test_index][cols])[:,1]\r\n",
    "        preds[idx2] += clf.predict_proba(test2[cols])[:,1] / 25.0\r\n",
    "        # RECORD INTERACTIONS\r\n",
    "        for j in range(255):\r\n",
    "            if clf.coef_[0][j]>0: interactions[i,j] = 1\r\n",
    "            elif clf.coef_[0][j]<0: interactions[i,j] = -1\r\n",
    "    #if i%25==0: print(i)\r\n",
    "        \r\n",
    "# PRINT CV AUC\r\n",
    "auc = roc_auc_score(train['target'],oof)\r\n",
    "print('LR with interactions scores CV =',round(auc,5))"
   ],
   "outputs": [],
   "metadata": {}
  },
  {
   "cell_type": "markdown",
   "source": [
    "# Submit Predictions"
   ],
   "metadata": {}
  },
  {
   "cell_type": "code",
   "execution_count": 4,
   "source": [
    "sub = pd.read_csv('../input/sample_submission.csv')\r\n",
    "sub['target'] = preds\r\n",
    "sub.to_csv('submission.csv',index=False)"
   ],
   "outputs": [],
   "metadata": {}
  }
 ],
 "metadata": {
  "kernelspec": {
   "display_name": "Python 3",
   "language": "python",
   "name": "python3"
  },
  "language_info": {
   "codemirror_mode": {
    "name": "ipython",
    "version": 3
   },
   "file_extension": ".py",
   "mimetype": "text/x-python",
   "name": "python",
   "nbconvert_exporter": "python",
   "pygments_lexer": "ipython3",
   "version": "3.6.4"
  }
 },
 "nbformat": 4,
 "nbformat_minor": 1
}